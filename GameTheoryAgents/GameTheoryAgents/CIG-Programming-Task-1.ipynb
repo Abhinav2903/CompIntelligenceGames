{
 "cells": [
  {
   "cell_type": "markdown",
   "metadata": {},
   "source": [
    "# Game Theory Agents"
   ]
  },
  {
   "cell_type": "code",
   "execution_count": 1,
   "metadata": {
    "colab": {},
    "colab_type": "code",
    "id": "KNfyaZJALv2Z"
   },
   "outputs": [],
   "source": [
    "import numpy as np\n",
    "from game_simulation import simulate_match_up\n",
    "from agent import *\n",
    "from game import get_default_game, Game"
   ]
  },
  {
   "cell_type": "markdown",
   "metadata": {},
   "source": [
    "## Define your own Agent"
   ]
  },
  {
   "cell_type": "code",
   "execution_count": 2,
   "metadata": {
    "colab": {},
    "colab_type": "code",
    "id": "3ry5jBkeNKDG"
   },
   "outputs": [],
   "source": [
    "class MyAgent(Agent):\n",
    "    \"\"\" Define your own Agent \"\"\"\n",
    "    def __init__(self, player_id, game):\n",
    "        super().__init__(player_id, game)\n",
    "\n",
    "    def get_action(self, last_action_p1, last_action_p2) -> Action:\n",
    "        return Action.Defect\n",
    "        raise NotImplementedError(\"Agent behaviour not yet implemented!\")"
   ]
  },
  {
   "cell_type": "markdown",
   "metadata": {
    "colab_type": "text",
    "id": "Iz3rYWlLNa8S"
   },
   "source": [
    "## Test your agent against a specific bot.\n",
    "\n",
    "\n"
   ]
  },
  {
   "cell_type": "code",
   "execution_count": 9,
   "metadata": {
    "colab": {
     "base_uri": "https://localhost:8080/",
     "height": 256
    },
    "colab_type": "code",
    "executionInfo": {
     "elapsed": 516,
     "status": "ok",
     "timestamp": 1554496611337,
     "user": {
      "displayName": "Alexander Dockhorn",
      "photoUrl": "",
      "userId": "10091456559354423908"
     },
     "user_tz": -120
    },
    "id": "D_mqIHpnNK2R",
    "outputId": "1a886e9c-7aac-4568-cc0b-03c7cdf263af"
   },
   "outputs": [
    {
     "name": "stdout",
     "output_type": "stream",
     "text": [
      "Game Payoff matrixes:\n",
      "player 1 payoff: \n",
      "           Cooperate  Defect\n",
      "Cooperate          2      -1\n",
      "Defect             3       0\n",
      "\n",
      "player 2 payoff: \n",
      "           Cooperate  Defect\n",
      "Cooperate          2       3\n",
      "Defect            -1       0 \n",
      "\n",
      "MyAgent vs. CopycatAgent -> (3, -1)\n"
     ]
    }
   ],
   "source": [
    "GAMES_PER_MATCHUP = 100\n",
    "game = get_default_game()  # or define your own using Game()  (see game.py for details)\n",
    "print(game, \"\\n\")\n",
    "\n",
    "# evaluate a specific match-up, e.g. MyAgent vs. CopycatAgent  (index 1 vs index 2)\n",
    "agents=[MyAgent, CopycatAgent]\n",
    "print(f\"{agents[0](1,game)} vs. {agents[1](1,game)} -> {simulate_match_up(agents[0], agents[1], game, GAMES_PER_MATCHUP)}\")   "
   ]
  },
  {
   "cell_type": "markdown",
   "metadata": {
    "colab_type": "text",
    "id": "mUIHJAAiNWwD"
   },
   "source": [
    "## Simulate a small tournament\n",
    "\n",
    "Play out all combinations of agents. The following agents are available:\n",
    "- AllCooperateAgent\n",
    "- AllDefectAgent\n",
    "- CopycatAgent\n",
    "- RandomAgent\n",
    "- GrudgerAgent\n",
    "- DetectiveAgent\n",
    "\n",
    "Add your agent to the list in the first line to test it against all other agents."
   ]
  },
  {
   "cell_type": "code",
   "execution_count": 4,
   "metadata": {
    "colab": {
     "base_uri": "https://localhost:8080/",
     "height": 384
    },
    "colab_type": "code",
    "executionInfo": {
     "elapsed": 847,
     "status": "ok",
     "timestamp": 1554496703587,
     "user": {
      "displayName": "Alexander Dockhorn",
      "photoUrl": "",
      "userId": "10091456559354423908"
     },
     "user_tz": -120
    },
    "id": "RMnMUID9MVWl",
    "outputId": "2cd67d1f-98fa-46df-cb31-846092e5cebe"
   },
   "outputs": [
    {
     "name": "stdout",
     "output_type": "stream",
     "text": [
      "[[[   0.  300.    0.    3.  135.    3.    6.]\n",
      "  [-100.  200. -100.  200.   53.  200.  -94.]\n",
      "  [   0.  300.    0.    3.  150.    3.    6.]\n",
      "  [  -1.  200.   -1.  200.  114.  200.   99.]\n",
      "  [ -51.  254.  -53.  109.  107.  -57.  112.]\n",
      "  [  -1.  200.   -1.  200.  144.  200.    4.]\n",
      "  [  -2.  298.   -2.  103.  108.    4.  198.]]\n",
      "\n",
      " [[   0. -100.    0.   -1.  -45.   -1.   -2.]\n",
      "  [ 300.  200.  300.  200.  249.  200.  298.]\n",
      "  [   0. -100.    0.   -1.  -50.   -1.   -2.]\n",
      "  [   3.  200.    3.  200.  114.  200.  103.]\n",
      "  [ 153.   38.  159.  105.  103.  179.  112.]\n",
      "  [   3.  200.    3.  200.  -40.  200.    4.]\n",
      "  [   6.  -94.    6.   99.  116.    4.  198.]]] \n",
      "\n",
      "total points of agent: MyAgent = 912.0\n",
      "total points of agent: AllCooperateAgent = 703.0\n",
      "total points of agent: AllDefectAgent = 933.0\n",
      "total points of agent: CopycatAgent = 1613.0\n",
      "total points of agent: RandomAgent = 868.0\n",
      "total points of agent: GrudgerAgent = 1527.0\n",
      "total points of agent: DetectiveAgent = 1418.0\n"
     ]
    }
   ],
   "source": [
    "\n",
    "agents = [MyAgent, AllCooperateAgent, AllDefectAgent, CopycatAgent, RandomAgent, GrudgerAgent, DetectiveAgent]\n",
    "results = np.zeros((2, len(agents), len(agents)))\n",
    "for id1, player1 in enumerate(agents):\n",
    "    for id2, player2 in enumerate(agents):\n",
    "        results[:, id1, id2] = simulate_match_up(player1, player2, game, GAMES_PER_MATCHUP)\n",
    "print(results, \"\\n\")\n",
    "# results[:, agent1, agent2] contains the results of simulate_match_up(agent1, agent2, game)\n",
    "\n",
    "for id, agent in enumerate(agents):\n",
    "    print(f\"total points of agent: {agent(1,game)} = {sum(results[0,id,:]) + sum(results[1,:,id])}\")"
   ]
  },
  {
   "cell_type": "code",
   "execution_count": null,
   "metadata": {},
   "outputs": [],
   "source": []
  }
 ],
 "metadata": {
  "colab": {
   "collapsed_sections": [],
   "name": "Computational Intelligence in Games 2019 - Exercise Sheet 1.ipynb",
   "provenance": [],
   "version": "0.3.2"
  },
  "kernelspec": {
   "display_name": "Python 3",
   "language": "python",
   "name": "python3"
  },
  "language_info": {
   "codemirror_mode": {
    "name": "ipython",
    "version": 3
   },
   "file_extension": ".py",
   "mimetype": "text/x-python",
   "name": "python",
   "nbconvert_exporter": "python",
   "pygments_lexer": "ipython3",
   "version": "3.8.8"
  }
 },
 "nbformat": 4,
 "nbformat_minor": 1
}
